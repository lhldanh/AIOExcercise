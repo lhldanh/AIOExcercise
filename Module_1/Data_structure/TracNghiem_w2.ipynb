{
 "cells": [
  {
   "cell_type": "code",
   "execution_count": 1,
   "metadata": {},
   "outputs": [
    {
     "name": "stdout",
     "output_type": "stream",
     "text": [
      "True\n"
     ]
    }
   ],
   "source": [
    "#5\n",
    "def check_the_number(N):\n",
    "    list_of_number = []\n",
    "    result = \"\"\n",
    "    for i in range(1, 5):\n",
    "        list_of_number.append(i)\n",
    "    if N in list_of_number:\n",
    "        result = \"True\"\n",
    "    if N not in list_of_number:\n",
    "        result = \"False\"\n",
    "    return result\n",
    "\n",
    "N = 7\n",
    "assert check_the_number(N) == \"False\"\n",
    "N = 2\n",
    "result = check_the_number(N)\n",
    "print(result)"
   ]
  },
  {
   "cell_type": "code",
   "execution_count": 2,
   "metadata": {},
   "outputs": [
    {
     "name": "stdout",
     "output_type": "stream",
     "text": [
      "[2, 2, 2, 1, 1]\n"
     ]
    }
   ],
   "source": [
    "#6\n",
    "def my_function(data, max, min):\n",
    "    result = []\n",
    "    for i in data:\n",
    "        if (i < min):\n",
    "            result.append(min)\n",
    "        elif i > max:\n",
    "            result.append(max)\n",
    "        else:\n",
    "            result.append(i)\n",
    "\n",
    "    return result\n",
    "\n",
    "my_list = [5, 2, 5, 0, 1]\n",
    "max = 1\n",
    "min = 0\n",
    "assert my_function(max = max, min = min, data = my_list) == [1, 1, 1, 0, 1]\n",
    "my_list = [10, 2, 5, 0, 1]\n",
    "max = 2\n",
    "min = 1\n",
    "print(my_function(max = max, min = min, data = my_list))\n",
    "        "
   ]
  },
  {
   "cell_type": "code",
   "execution_count": 6,
   "metadata": {},
   "outputs": [
    {
     "name": "stdout",
     "output_type": "stream",
     "text": [
      "[1, 2, 3, 4, 0, 0]\n"
     ]
    }
   ],
   "source": [
    "#7\n",
    "def my_function(x, y):\n",
    "    x.extend(y)\n",
    "    return x\n",
    "\n",
    "list_num1 = ['a', 2 , 5]\n",
    "list_num2 = [1 , 1]\n",
    "list_num3 = [0 , 0]\n",
    "\n",
    "assert my_function (list_num1 , my_function (list_num2 , list_num3)) == ['a', 2 , 5 , 1 , 1 , 0, 0]\n",
    "\n",
    "list_num1 = [1 , 2]\n",
    "list_num2 = [3 , 4]\n",
    "list_num3 = [0 , 0]\n",
    "print (my_function (list_num1 , my_function(list_num2 , list_num3)))"
   ]
  },
  {
   "cell_type": "code",
   "execution_count": 16,
   "metadata": {},
   "outputs": [
    {
     "name": "stdout",
     "output_type": "stream",
     "text": [
      "-1\n"
     ]
    }
   ],
   "source": [
    "#8\n",
    "import builtins\n",
    "def my_function(n):\n",
    "    return builtins.min(n) \n",
    "# Do ở trên có thằng min = 1, nên python hiểu min là số, phải dùng builtins\n",
    "\n",
    "my_list = [1, 22, 93, -100]\n",
    "assert my_function(my_list) == -100  \n",
    "\n",
    "my_list = [1, 2, 3, -1]\n",
    "print(my_function(my_list))\n"
   ]
  },
  {
   "cell_type": "code",
   "execution_count": 17,
   "metadata": {},
   "outputs": [
    {
     "name": "stdout",
     "output_type": "stream",
     "text": [
      "9\n"
     ]
    }
   ],
   "source": [
    "#9\n",
    "import builtins\n",
    "def my_function(n):\n",
    "    return builtins.max(n) \n",
    "\n",
    "my_list = [1001 , 9 , 100 , 0]\n",
    "assert my_function ( my_list ) == 1001\n",
    "\n",
    "my_list = [1 , 9 , 9 , 0]\n",
    "print ( my_function ( my_list ) )\n",
    "\n"
   ]
  },
  {
   "cell_type": "code",
   "execution_count": 20,
   "metadata": {},
   "outputs": [
    {
     "name": "stdout",
     "output_type": "stream",
     "text": [
      "True\n"
     ]
    }
   ],
   "source": [
    "#10\n",
    "def My_function ( integers , number = 1):\n",
    "    return any(i == number for i in integers)\n",
    "\n",
    "my_list = [1, 3, 9, 4]\n",
    "assert My_function(my_list, -1) == False\n",
    "\n",
    "my_list = [1, 2, 3, 4]\n",
    "print(My_function(my_list, 2))"
   ]
  },
  {
   "cell_type": "code",
   "execution_count": 21,
   "metadata": {},
   "outputs": [
    {
     "name": "stdout",
     "output_type": "stream",
     "text": [
      "1.0\n"
     ]
    }
   ],
   "source": [
    "#11\n",
    "def my_function (list_nums = [0 , 1 , 2]) :\n",
    "    var = 0\n",
    "    for i in list_nums:\n",
    "        var += i\n",
    "    return var/len(list_nums)\n",
    "\n",
    "assert my_function([4 , 6 , 8]) == 6\n",
    "print (my_function())"
   ]
  },
  {
   "cell_type": "code",
   "execution_count": 22,
   "metadata": {},
   "outputs": [
    {
     "name": "stdout",
     "output_type": "stream",
     "text": [
      "[3, 6]\n"
     ]
    }
   ],
   "source": [
    "#12\n",
    "def my_function ( data ) :\n",
    "    var = []\n",
    "    for i in data:\n",
    "        if (i % 3 == 0):\n",
    "            var.append(i)\n",
    "    return var\n",
    "\n",
    "assert my_function([3 , 9 , 4 , 5]) == [3 , 9]\n",
    "print (my_function([1 , 2 , 3 , 5 , 6]))"
   ]
  },
  {
   "cell_type": "code",
   "execution_count": 23,
   "metadata": {},
   "outputs": [
    {
     "name": "stdout",
     "output_type": "stream",
     "text": [
      "24\n"
     ]
    }
   ],
   "source": [
    "#13\n",
    "def my_function(y):\n",
    "    var = 1\n",
    "    while(y > 1):\n",
    "        var *= y\n",
    "        y -= 1\n",
    "    return var\n",
    "\n",
    "assert my_function(8) == 40320\n",
    "print(my_function(4))"
   ]
  },
  {
   "cell_type": "code",
   "execution_count": 24,
   "metadata": {},
   "outputs": [
    {
     "name": "stdout",
     "output_type": "stream",
     "text": [
      "tocirpa\n"
     ]
    }
   ],
   "source": [
    "def my_function (x):\n",
    "    return x[::-1]\n",
    "\n",
    "x = 'I can do it'\n",
    "assert my_function (x ) ==\"ti od nac I\"\n",
    "\n",
    "x = 'apricot'\n",
    "print(my_function(x))"
   ]
  },
  {
   "cell_type": "code",
   "execution_count": null,
   "metadata": {},
   "outputs": [],
   "source": [
    "def function_helper (x):\n",
    "    return 'T' * (x > 0) + 'N' * (x <= 0)\n",
    "def my_function (data):\n",
    "    res = [function_helper(x) for x in data]\n",
    "    return res\n",
    "\n",
    "data = [10 , 0 , -10 , -1]\n",
    "assert my_function ( data ) == ['T', 'N', 'N', 'N']\n",
    "\n",
    "data = [2 , 3 , 5 , -1]\n",
    "print(my_function(data))"
   ]
  }
 ],
 "metadata": {
  "kernelspec": {
   "display_name": "hehe",
   "language": "python",
   "name": "python3"
  },
  "language_info": {
   "codemirror_mode": {
    "name": "ipython",
    "version": 3
   },
   "file_extension": ".py",
   "mimetype": "text/x-python",
   "name": "python",
   "nbconvert_exporter": "python",
   "pygments_lexer": "ipython3",
   "version": "3.8.18"
  }
 },
 "nbformat": 4,
 "nbformat_minor": 2
}
