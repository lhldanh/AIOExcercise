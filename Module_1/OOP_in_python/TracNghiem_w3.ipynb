{
 "cells": [
  {
   "cell_type": "markdown",
   "metadata": {},
   "source": [
    "^(?=\\d+ >>.*\\n?).*$|^(?=(\\d+\\s)).."
   ]
  },
  {
   "cell_type": "code",
   "execution_count": 2,
   "metadata": {},
   "outputs": [
    {
     "data": {
      "text/plain": [
       "tensor([0.0900, 0.2447, 0.6652])"
      ]
     },
     "execution_count": 2,
     "metadata": {},
     "output_type": "execute_result"
    }
   ],
   "source": [
    "#1\n",
    "import torch\n",
    "import torch.nn as nn\n",
    "\n",
    "data = torch.Tensor ([1, 2, 3])\n",
    "softmax_function = nn.Softmax(dim =0)\n",
    "output = softmax_function(data)\n",
    "assert round (output[0].item(), 2) == 0.09\n",
    "output"
   ]
  },
  {
   "cell_type": "code",
   "execution_count": 8,
   "metadata": {},
   "outputs": [
    {
     "data": {
      "text/plain": [
       "tensor([0.7054, 0.0351, 0.2595])"
      ]
     },
     "execution_count": 8,
     "metadata": {},
     "output_type": "execute_result"
    }
   ],
   "source": [
    "#2\n",
    "\n",
    "class MySoftmax(nn.Module):\n",
    "    def __init__(self):\n",
    "        super().__init__()\n",
    "\n",
    "    def forward(self, x):\n",
    "        e_x = torch.exp(x)\n",
    "        return e_x / e_x.sum()\n",
    "\n",
    "data = torch.Tensor([5, 2, 4])\n",
    "my_softmax = MySoftmax()\n",
    "output = my_softmax(data)\n",
    "assert round(output[-1].item(), 2) == 0.26\n",
    "output"
   ]
  },
  {
   "cell_type": "code",
   "execution_count": 12,
   "metadata": {},
   "outputs": [
    {
     "data": {
      "text/plain": [
       "tensor([0., 0., nan])"
      ]
     },
     "execution_count": 12,
     "metadata": {},
     "output_type": "execute_result"
    }
   ],
   "source": [
    "#3\n",
    "\n",
    "class MySoftmax(nn.Module):\n",
    "    def __init__(self):\n",
    "        super(MySoftmax, self).__init__()\n",
    "\n",
    "    def forward(self, x):\n",
    "            e_x = torch.exp(x)\n",
    "            return e_x / e_x.sum()\n",
    "\n",
    "data = torch . Tensor ([1 , 2 , 300000000])\n",
    "my_softmax = MySoftmax ()\n",
    "output = my_softmax ( data )\n",
    "assert round ( output [0]. item () , 2) == 0.0\n",
    "output\n"
   ]
  },
  {
   "cell_type": "code",
   "execution_count": 14,
   "metadata": {},
   "outputs": [
    {
     "data": {
      "text/plain": [
       "tensor([0.0900, 0.2447, 0.6652])"
      ]
     },
     "execution_count": 14,
     "metadata": {},
     "output_type": "execute_result"
    }
   ],
   "source": [
    "class SoftmaxStable ( nn . Module ):\n",
    "    def __init__ ( self ) :\n",
    "        super ().__init__()\n",
    "\n",
    "    def forward ( self , x ) :\n",
    "        x_max = torch .max(x , dim =0 , keepdims = True )\n",
    "        x_exp = torch . exp ( x - x_max . values )\n",
    "        partition = x_exp .sum (0 , keepdims = True )\n",
    "        return x_exp / partition\n",
    "\n",
    "data = torch . Tensor ([1 , 2 , 3])\n",
    "softmax_stable = SoftmaxStable ()\n",
    "output = softmax_stable ( data )\n",
    "assert round ( output [ -1]. item () , 2) == 0.67\n",
    "output"
   ]
  }
 ],
 "metadata": {
  "kernelspec": {
   "display_name": "py39",
   "language": "python",
   "name": "python3"
  },
  "language_info": {
   "codemirror_mode": {
    "name": "ipython",
    "version": 3
   },
   "file_extension": ".py",
   "mimetype": "text/x-python",
   "name": "python",
   "nbconvert_exporter": "python",
   "pygments_lexer": "ipython3",
   "version": "3.9.19"
  }
 },
 "nbformat": 4,
 "nbformat_minor": 2
}
